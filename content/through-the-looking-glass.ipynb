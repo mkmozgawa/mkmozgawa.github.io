{
 "cells": [
  {
   "cell_type": "code",
   "execution_count": 1,
   "metadata": {},
   "outputs": [],
   "source": [
    "import nltk\n",
    "from nltk.corpus import gutenberg\n",
    "import random"
   ]
  },
  {
   "cell_type": "code",
   "execution_count": 2,
   "metadata": {},
   "outputs": [
    {
     "data": {
      "text/plain": [
       "['austen-emma.txt',\n",
       " 'austen-persuasion.txt',\n",
       " 'austen-sense.txt',\n",
       " 'bible-kjv.txt',\n",
       " 'blake-poems.txt',\n",
       " 'bryant-stories.txt',\n",
       " 'burgess-busterbrown.txt',\n",
       " 'carroll-alice.txt',\n",
       " 'chesterton-ball.txt',\n",
       " 'chesterton-brown.txt',\n",
       " 'chesterton-thursday.txt',\n",
       " 'edgeworth-parents.txt',\n",
       " 'melville-moby_dick.txt',\n",
       " 'milton-paradise.txt',\n",
       " 'shakespeare-caesar.txt',\n",
       " 'shakespeare-hamlet.txt',\n",
       " 'shakespeare-macbeth.txt',\n",
       " 'whitman-leaves.txt']"
      ]
     },
     "execution_count": 2,
     "metadata": {},
     "output_type": "execute_result"
    }
   ],
   "source": [
    "nltk.corpus.gutenberg.fileids()"
   ]
  },
  {
   "cell_type": "code",
   "execution_count": 3,
   "metadata": {},
   "outputs": [],
   "source": [
    "alice_words = nltk.corpus.gutenberg.words('carroll-alice.txt')"
   ]
  },
  {
   "cell_type": "code",
   "execution_count": 4,
   "metadata": {},
   "outputs": [],
   "source": [
    "alice_unique_words = list(set([w.lower() for w in alice_words if w.isalpha()])) # get rid of punctuation on the way there"
   ]
  },
  {
   "cell_type": "code",
   "execution_count": 5,
   "metadata": {},
   "outputs": [
    {
     "data": {
      "text/plain": [
       "0.07531515684549986"
      ]
     },
     "execution_count": 5,
     "metadata": {},
     "output_type": "execute_result"
    }
   ],
   "source": [
    "len(alice_unique_words) / len(alice_words) # % of unique vocab"
   ]
  },
  {
   "cell_type": "code",
   "execution_count": 6,
   "metadata": {},
   "outputs": [],
   "source": [
    "# Syzygies"
   ]
  },
  {
   "cell_type": "code",
   "execution_count": 10,
   "metadata": {},
   "outputs": [],
   "source": [
    "import random"
   ]
  },
  {
   "cell_type": "code",
   "execution_count": 11,
   "metadata": {},
   "outputs": [],
   "source": [
    "# 1st syzygy type: take the last letter of a random word w1\n",
    "# pick another word w2 that has this letter as its 1st letter (at random)\n",
    "# take the last letter of w2\n",
    "# pick another word w3 that has this letter as the first letter (at random)\n",
    "# ..."
   ]
  },
  {
   "cell_type": "code",
   "execution_count": 12,
   "metadata": {},
   "outputs": [],
   "source": [
    "def find_last_first_letter(words, start_word):\n",
    "    \n",
    "    words_l = words.copy()\n",
    "    w1 = start_word\n",
    "    result = [start_word]\n",
    "    words_l.remove(w1)\n",
    "    while True:\n",
    "        try:\n",
    "            w2 = random.choice([w for w in words_l if w[:1] == w1[-1:]])\n",
    "            result.append(w2)\n",
    "            words_l.remove(w2)\n",
    "            w1 = w2\n",
    "        except IndexError:\n",
    "            break\n",
    "    return result"
   ]
  },
  {
   "cell_type": "code",
   "execution_count": 27,
   "metadata": {},
   "outputs": [],
   "source": [
    "def find_last_first_letter_all(words, start_word):\n",
    "    \n",
    "    words_l = words.copy()\n",
    "    w1 = start_word\n",
    "    result = [start_word]\n",
    "    words_l.remove(w1)\n",
    "    \n",
    "    while True:\n",
    "        try:\n",
    "            choices = [w for w in words_l if w[0] == w1[-1] and w[0] == w[-1]]\n",
    "            if len(choices) > 0:\n",
    "                w2 = random.choice(choices)\n",
    "            else:\n",
    "                choices = [w for w in words_l if w[0] == w1[-1]]\n",
    "                w2 = random.choice(choices)\n",
    "            result.append(w2)\n",
    "            words_l.remove(w2)\n",
    "            w1 = w2\n",
    "        except IndexError:\n",
    "            break\n",
    "    return result"
   ]
  },
  {
   "cell_type": "code",
   "execution_count": 28,
   "metadata": {},
   "outputs": [],
   "source": [
    "# find the longest chain\n",
    "\n",
    "longest = []\n",
    "for word in alice_unique_words:\n",
    "    r = find_last_first_letter_all(alice_unique_words, word)\n",
    "    if len(r) > len(longest):\n",
    "        longest = r"
   ]
  },
  {
   "cell_type": "code",
   "execution_count": 29,
   "metadata": {},
   "outputs": [
    {
     "data": {
      "text/plain": [
       "424"
      ]
     },
     "execution_count": 29,
     "metadata": {},
     "output_type": "execute_result"
    }
   ],
   "source": [
    "len(longest)"
   ]
  },
  {
   "cell_type": "code",
   "execution_count": 16,
   "metadata": {},
   "outputs": [],
   "source": [
    "# 2nd syzygy type:\n",
    "# pick w1 at random \n",
    "# take 3 consecutive letters from w1 at random \n",
    "# pick w2 at random from the words which include w1 subword\n",
    "# take 3 consecutive letters from w2 at random\n",
    "# pick w3 at random from the words which include w2 subword\n",
    "# ..."
   ]
  },
  {
   "cell_type": "code",
   "execution_count": 17,
   "metadata": {},
   "outputs": [],
   "source": [
    "def find_three_shared_letters(words, start_word):\n",
    "    \n",
    "    words_l = words.copy()\n",
    "    w1 = start_word\n",
    "    result = [start_word]\n",
    "    \n",
    "    n = random.choice(range(len(w1)-2))\n",
    "    sub_w1 = w1[n:n+3]\n",
    "    \n",
    "    words_l.remove(w1)\n",
    "    \n",
    "    while True:\n",
    "        try:\n",
    "            w2 = random.choice([w for w in words_l if sub_w1 in w])\n",
    "            n = random.choice(range(len(w2)-2))\n",
    "            sub_w2 = w2[n:n+3]\n",
    "            result.append(w2)\n",
    "            words_l.remove(w2)\n",
    "            sub_w1 = sub_w2\n",
    "        except IndexError:\n",
    "            break\n",
    "    \n",
    "    return result"
   ]
  },
  {
   "cell_type": "code",
   "execution_count": 18,
   "metadata": {},
   "outputs": [],
   "source": [
    "# find the longest chain\n",
    "\n",
    "alice_words_long = [w for w in alice_unique_words if len(w) >= 3]\n",
    "\n",
    "longest_chain_2 = []\n",
    "\n",
    "for word in alice_words_long:\n",
    "    r = find_three_shared_letters(alice_words_long, word)\n",
    "    if len(r) > len(longest_chain_2):\n",
    "        longest_chain_2 = r"
   ]
  },
  {
   "cell_type": "code",
   "execution_count": 19,
   "metadata": {},
   "outputs": [
    {
     "data": {
      "text/plain": [
       "124"
      ]
     },
     "execution_count": 19,
     "metadata": {},
     "output_type": "execute_result"
    }
   ],
   "source": [
    "len(longest_chain_2)"
   ]
  },
  {
   "cell_type": "code",
   "execution_count": 20,
   "metadata": {},
   "outputs": [
    {
     "data": {
      "text/plain": [
       "['nest',\n",
       " 'witness',\n",
       " 'with',\n",
       " 'without',\n",
       " 'within',\n",
       " 'anything',\n",
       " 'company',\n",
       " 'impatiently',\n",
       " 'pattern',\n",
       " 'attended',\n",
       " 'attempted',\n",
       " 'contemptuously',\n",
       " 'confused',\n",
       " 'housemaid',\n",
       " 'remark',\n",
       " 'tremble',\n",
       " 'humble',\n",
       " 'northumbria',\n",
       " 'trials',\n",
       " 'trial',\n",
       " 'variations',\n",
       " 'executioner',\n",
       " 'consultation',\n",
       " 'directions',\n",
       " 'questions',\n",
       " 'guess',\n",
       " 'messages',\n",
       " 'age',\n",
       " 'courage',\n",
       " 'encourage',\n",
       " 'uncomfortable',\n",
       " 'forwards',\n",
       " 'afterwards',\n",
       " 'doorway',\n",
       " 'way',\n",
       " 'railway',\n",
       " 'raised',\n",
       " 'daisies',\n",
       " 'waist',\n",
       " 'thistle',\n",
       " 'kettle',\n",
       " 'settled',\n",
       " 'rattle',\n",
       " 'settle',\n",
       " 'whistle',\n",
       " 'whiskers',\n",
       " 'understood',\n",
       " 'burst',\n",
       " 'bursting',\n",
       " 'wasting',\n",
       " 'waste',\n",
       " 'wash',\n",
       " 'washing',\n",
       " 'shining',\n",
       " 'turning',\n",
       " 'learning',\n",
       " 'nearly',\n",
       " 'clearly',\n",
       " 'leant',\n",
       " 'leaving',\n",
       " 'leaves',\n",
       " 'leave',\n",
       " 'clean',\n",
       " 'clever',\n",
       " 'clear',\n",
       " 'pleaded',\n",
       " 'scolded',\n",
       " 'older',\n",
       " 'folded',\n",
       " 'follow',\n",
       " 'unrolled',\n",
       " 'carroll',\n",
       " 'arrived',\n",
       " 'quarrelled',\n",
       " 'fumbled',\n",
       " 'blew',\n",
       " 'lewis',\n",
       " 'wish',\n",
       " 'fishes',\n",
       " 'she',\n",
       " 'finished',\n",
       " 'vanished',\n",
       " 'punished',\n",
       " 'splashed',\n",
       " 'clasped',\n",
       " 'lastly',\n",
       " 'exactly',\n",
       " 'directly',\n",
       " 'recovered',\n",
       " 'wondered',\n",
       " 'wandering',\n",
       " 'handed',\n",
       " 'minded',\n",
       " 'indeed',\n",
       " 'minding',\n",
       " 'dinn',\n",
       " 'grinning',\n",
       " 'dinner',\n",
       " 'grinned',\n",
       " 'grief',\n",
       " 'relief',\n",
       " 'lie',\n",
       " 'replied',\n",
       " 'rippling',\n",
       " 'rustling',\n",
       " 'whistling',\n",
       " 'living',\n",
       " 'having',\n",
       " 'have',\n",
       " 'haven',\n",
       " 'venture',\n",
       " 'refreshments',\n",
       " 'parchment',\n",
       " 'ointment',\n",
       " 'disappointment',\n",
       " 'content',\n",
       " 'contempt',\n",
       " 'attempts',\n",
       " 'matters',\n",
       " 'hatter',\n",
       " 'chatte',\n",
       " 'attempt',\n",
       " 'attending',\n",
       " 'existence']"
      ]
     },
     "execution_count": 20,
     "metadata": {},
     "output_type": "execute_result"
    }
   ],
   "source": [
    "longest_chain_2"
   ]
  }
 ],
 "metadata": {
  "kernelspec": {
   "display_name": "somebody-once-told-me",
   "language": "python",
   "name": "somebody-once-told-me"
  },
  "language_info": {
   "codemirror_mode": {
    "name": "ipython",
    "version": 3
   },
   "file_extension": ".py",
   "mimetype": "text/x-python",
   "name": "python",
   "nbconvert_exporter": "python",
   "pygments_lexer": "ipython3",
   "version": "3.7.2"
  }
 },
 "nbformat": 4,
 "nbformat_minor": 2
}
