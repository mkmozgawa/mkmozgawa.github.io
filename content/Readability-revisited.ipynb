{
 "cells": [
  {
   "cell_type": "markdown",
   "metadata": {},
   "source": [
    "A long, long time ago (to be exact -- in February 2018) I prepared a Shiny app to explore the books of the most popular [Project Gutenberg](https://www.gutenberg.org/catalog/) authors. The original app is still available (and bugged) [via ShinyApps](https://mzgw.shinyapps.io/book-recommendation/), and was inspired by [this article](https://blog.vocapouch.com/do-20-pages-of-a-book-gives-you-90-of-its-words-795a405afe70). I first decided to port the unique words plot from Python to R, then utilised some [readability scripts](https://github.com/mkmozgawa/flescher-readability) I'd written earlier, and all of a sudden it was all nice and Shiny. (ba-dum-tss) Also, it helped that I needed to create some kind of a project for my uni labs."
   ]
  },
  {
   "cell_type": "markdown",
   "metadata": {},
   "source": [
    "I recently digged back into the project due to my incessant interest in the concepts of readability tests and other measurable text features. While the more complex work is still underway (I need some data from humans, never easy), I thought the app itself could use some improvements, and at least one of them could potentially be done without touching the existing codebase. Then there's the issue with how to calculate the readability score -- and stay sane."
   ]
  },
  {
   "cell_type": "markdown",
   "metadata": {},
   "source": [
    "### Dealing with the books galore"
   ]
  },
  {
   "cell_type": "markdown",
   "metadata": {},
   "source": [
    "If you consider the \"Books on this level\" plot, there's way too much data if you go for the B1 level:"
   ]
  },
  {
   "cell_type": "markdown",
   "metadata": {},
   "source": [
    "![alt text](images/plot_before.png \"Books on this level plot -- before removing some items\")"
   ]
  },
  {
   "cell_type": "markdown",
   "metadata": {},
   "source": [
    "This is due to the fact that there are way more books on the A2 - B2 levels than on any else or, putting it in the statistical lingo, the flesch.value vector data is skewed (left-skewed if you look at the flesch.value, and right-skewed if you consider the level). This becomes appearent when you group all the books by the level and count your chickens:"
   ]
  },
  {
   "cell_type": "code",
   "execution_count": 2,
   "metadata": {},
   "outputs": [],
   "source": [
    "import numpy as np\n",
    "import pandas as pd\n",
    "import seaborn as sns\n",
    "import matplotlib.pyplot as plt\n",
    "%matplotlib inline"
   ]
  },
  {
   "cell_type": "code",
   "execution_count": 3,
   "metadata": {},
   "outputs": [],
   "source": [
    "book_list = pd.read_csv('book_list.csv', sep=',', header=0)"
   ]
  },
  {
   "cell_type": "code",
   "execution_count": 4,
   "metadata": {},
   "outputs": [
    {
     "data": {
      "text/html": [
       "<div>\n",
       "<style scoped>\n",
       "    .dataframe tbody tr th:only-of-type {\n",
       "        vertical-align: middle;\n",
       "    }\n",
       "\n",
       "    .dataframe tbody tr th {\n",
       "        vertical-align: top;\n",
       "    }\n",
       "\n",
       "    .dataframe thead th {\n",
       "        text-align: right;\n",
       "    }\n",
       "</style>\n",
       "<table border=\"1\" class=\"dataframe\">\n",
       "  <thead>\n",
       "    <tr style=\"text-align: right;\">\n",
       "      <th></th>\n",
       "      <th>gutenberg.id</th>\n",
       "      <th>title</th>\n",
       "      <th>author</th>\n",
       "      <th>gutenberg.author.id</th>\n",
       "      <th>gutenberg.bookshelf</th>\n",
       "      <th>flesch.value</th>\n",
       "      <th>flesch.grade</th>\n",
       "      <th>level</th>\n",
       "      <th>average.goodreads.rating</th>\n",
       "    </tr>\n",
       "  </thead>\n",
       "  <tbody>\n",
       "    <tr>\n",
       "      <th>0</th>\n",
       "      <td>17621</td>\n",
       "      <td>One Day More: A Play In One Act</td>\n",
       "      <td>Conrad, Joseph</td>\n",
       "      <td>125</td>\n",
       "      <td>One Act Plays</td>\n",
       "      <td>90.418363</td>\n",
       "      <td>5</td>\n",
       "      <td>A1</td>\n",
       "      <td>2.90</td>\n",
       "    </tr>\n",
       "    <tr>\n",
       "      <th>1</th>\n",
       "      <td>28554</td>\n",
       "      <td>Beyond Lies the Wub</td>\n",
       "      <td>Dick, Philip K.</td>\n",
       "      <td>33399</td>\n",
       "      <td>Science Fiction</td>\n",
       "      <td>90.431191</td>\n",
       "      <td>5</td>\n",
       "      <td>A1</td>\n",
       "      <td>3.81</td>\n",
       "    </tr>\n",
       "    <tr>\n",
       "      <th>2</th>\n",
       "      <td>28644</td>\n",
       "      <td>Beyond the Door</td>\n",
       "      <td>Dick, Philip K.</td>\n",
       "      <td>33399</td>\n",
       "      <td>Science Fiction</td>\n",
       "      <td>93.401235</td>\n",
       "      <td>5</td>\n",
       "      <td>A1</td>\n",
       "      <td>3.06</td>\n",
       "    </tr>\n",
       "    <tr>\n",
       "      <th>3</th>\n",
       "      <td>32032</td>\n",
       "      <td>Second Variety</td>\n",
       "      <td>Dick, Philip K.</td>\n",
       "      <td>33399</td>\n",
       "      <td>Science Fiction</td>\n",
       "      <td>91.175281</td>\n",
       "      <td>5</td>\n",
       "      <td>A1</td>\n",
       "      <td>3.96</td>\n",
       "    </tr>\n",
       "    <tr>\n",
       "      <th>4</th>\n",
       "      <td>41562</td>\n",
       "      <td>The Hanging Stranger</td>\n",
       "      <td>Dick, Philip K.</td>\n",
       "      <td>33399</td>\n",
       "      <td>Science Fiction</td>\n",
       "      <td>91.919921</td>\n",
       "      <td>5</td>\n",
       "      <td>A1</td>\n",
       "      <td>3.90</td>\n",
       "    </tr>\n",
       "  </tbody>\n",
       "</table>\n",
       "</div>"
      ],
      "text/plain": [
       "   gutenberg.id                            title           author  \\\n",
       "0         17621  One Day More: A Play In One Act   Conrad, Joseph   \n",
       "1         28554              Beyond Lies the Wub  Dick, Philip K.   \n",
       "2         28644                  Beyond the Door  Dick, Philip K.   \n",
       "3         32032                   Second Variety  Dick, Philip K.   \n",
       "4         41562             The Hanging Stranger  Dick, Philip K.   \n",
       "\n",
       "   gutenberg.author.id gutenberg.bookshelf  flesch.value flesch.grade level  \\\n",
       "0                  125       One Act Plays     90.418363            5    A1   \n",
       "1                33399     Science Fiction     90.431191            5    A1   \n",
       "2                33399     Science Fiction     93.401235            5    A1   \n",
       "3                33399     Science Fiction     91.175281            5    A1   \n",
       "4                33399     Science Fiction     91.919921            5    A1   \n",
       "\n",
       "   average.goodreads.rating  \n",
       "0                      2.90  \n",
       "1                      3.81  \n",
       "2                      3.06  \n",
       "3                      3.96  \n",
       "4                      3.90  "
      ]
     },
     "execution_count": 4,
     "metadata": {},
     "output_type": "execute_result"
    }
   ],
   "source": [
    "sns.set(style=\"ticks\")\n",
    "book_list.head()"
   ]
  },
  {
   "cell_type": "code",
   "execution_count": 104,
   "metadata": {},
   "outputs": [
    {
     "data": {
      "text/plain": [
       "level\n",
       "A1     14\n",
       "A2    155\n",
       "B1    187\n",
       "B2     90\n",
       "C1     22\n",
       "C2     10\n",
       "dtype: int64"
      ]
     },
     "execution_count": 104,
     "metadata": {},
     "output_type": "execute_result"
    }
   ],
   "source": [
    "book_list.groupby('level').size()"
   ]
  },
  {
   "cell_type": "markdown",
   "metadata": {},
   "source": [
    "Another thing that becomes apparent when you plot the flesch.value ([https://en.wikipedia.org/wiki/Flesch%E2%80%93Kincaid_readability_tests](click for more info on that)) against the average.goodreads.rating (pulled from the [Goodreads](https://www.goodreads.com/) (API)[https://www.goodreads.com/api]) is that it's also left-skewed (right-skewed on the plot below because of the nature of the Y axis)."
   ]
  },
  {
   "cell_type": "code",
   "execution_count": 105,
   "metadata": {},
   "outputs": [
    {
     "data": {
      "text/plain": [
       "<seaborn.axisgrid.JointGrid at 0x7fd0b6787860>"
      ]
     },
     "execution_count": 105,
     "metadata": {},
     "output_type": "execute_result"
    },
    {
     "data": {
      "image/png": "[encoded data removed]",
      "text/plain": [
       "<Figure size 432x432 with 3 Axes>"
      ]
     },
     "metadata": {
      "needs_background": "light"
     },
     "output_type": "display_data"
    }
   ],
   "source": [
    "sns.jointplot(x='flesch.value',y='average.goodreads.rating',data=book_list,kind='hex')"
   ]
  },
  {
   "cell_type": "markdown",
   "metadata": {},
   "source": [
    "What I get from this is that, essentially, the rating may be a useless metric (\"every product and business on earth is assigned a numerical rating from 1 to 5 on some site, but everything ends up at 3.7 +/- 0.1, so it means nothing, but we just keep doing it because our first goal is quantification as such, accuracy and precision be damned\" to quote [Gary Bernhardt](https://twitter.com/garybernhardt/status/1117664396757520384)). But I promised to myself not to dwell on the past and so I'm not changing the logic of the app, and I shall just pick fewer books for each grade level to make it look nicer on the actual plot. Also, these are the cream of the crop volumes, so maybe they're just really good on average? Or maybe people are afraid to rate them too low?"
   ]
  },
  {
   "cell_type": "markdown",
   "metadata": {},
   "source": [
    "But how do I pick only some of the books in such a way that I get a sample of each readability level (and Goodreads rating)? Given the plot above, there are some really hot regions (think 3.7 stars, 78 on the Flesch-Kincaid scale) but the rest could potentially stay as it is. As this is more for the demonstration purposes and not some actual sample-sized statistical research, the simplest way would be to first bucket the books in an even more fine manner (90-88 flesch.value, 88-86 flesch.value, and so on) and then from each such bucket, if there is more than one book, choose on the basis of their Goodreads rating (how varied it is)."
   ]
  },
  {
   "cell_type": "code",
   "execution_count": 106,
   "metadata": {},
   "outputs": [],
   "source": [
    "bins_flesch = np.linspace(0,100,num=101)\n",
    "cuts_flesch = pd.cut(book_list['flesch.value'], bins_flesch)\n",
    "bins_rating = np.linspace(0,5,num=11)\n",
    "cuts_rating = pd.cut(book_list['average.goodreads.rating'], bins_rating)\n",
    "groups = book_list.groupby(by=[cuts_flesch, cuts_rating])"
   ]
  },
  {
   "cell_type": "code",
   "execution_count": 107,
   "metadata": {},
   "outputs": [
    {
     "data": {
      "text/plain": [
       "flesch.value  average.goodreads.rating\n",
       "(26.0, 27.0]  (3.0, 3.5]                  1\n",
       "(43.0, 44.0]  (3.5, 4.0]                  2\n",
       "(44.0, 45.0]  (3.5, 4.0]                  1\n",
       "(46.0, 47.0]  (3.5, 4.0]                  1\n",
       "(47.0, 48.0]  (2.5, 3.0]                  1\n",
       "dtype: int64"
      ]
     },
     "execution_count": 107,
     "metadata": {},
     "output_type": "execute_result"
    }
   ],
   "source": [
    "groups.size().head()"
   ]
  },
  {
   "cell_type": "markdown",
   "metadata": {},
   "source": [
    "Let's assume that for each of these buckets, the goal would be to have a single element in it, and this element would be as close to the average of that particular bucket as possible. Note that this is going to be a pretty small data frame (I'm starting with <500 records) so performance isn't an issue here. Normally you'd want to pre-allocate indices, and stuff like that."
   ]
  },
  {
   "cell_type": "code",
   "execution_count": 108,
   "metadata": {},
   "outputs": [],
   "source": [
    "res_df = pd.DataFrame(columns=list(book_list.columns.values))"
   ]
  },
  {
   "cell_type": "code",
   "execution_count": 109,
   "metadata": {},
   "outputs": [],
   "source": [
    "# https://stackoverflow.com/questions/2566412/find-nearest-value-in-numpy-array\n",
    "def find_nearest(array, value):\n",
    "    array = np.asarray(array)\n",
    "    idx = (np.abs(array - value)).argmin()\n",
    "    return array[idx]"
   ]
  },
  {
   "cell_type": "code",
   "execution_count": 110,
   "metadata": {},
   "outputs": [],
   "source": [
    "els = []\n",
    "for key, item in groups:\n",
    "    g = groups.get_group(key)\n",
    "    g_mean = g['average.goodreads.rating'].mean()\n",
    "    g_mean_choice = find_nearest(g['average.goodreads.rating'], g_mean)\n",
    "    g_choice = g[g['average.goodreads.rating'] == g_mean_choice]\n",
    "    f = [res_df, g_choice]\n",
    "    res_df = pd.concat(f)"
   ]
  },
  {
   "cell_type": "code",
   "execution_count": 111,
   "metadata": {},
   "outputs": [
    {
     "data": {
      "text/html": [
       "<div>\n",
       "<style scoped>\n",
       "    .dataframe tbody tr th:only-of-type {\n",
       "        vertical-align: middle;\n",
       "    }\n",
       "\n",
       "    .dataframe tbody tr th {\n",
       "        vertical-align: top;\n",
       "    }\n",
       "\n",
       "    .dataframe thead th {\n",
       "        text-align: right;\n",
       "    }\n",
       "</style>\n",
       "<table border=\"1\" class=\"dataframe\">\n",
       "  <thead>\n",
       "    <tr style=\"text-align: right;\">\n",
       "      <th></th>\n",
       "      <th>gutenberg.id</th>\n",
       "      <th>title</th>\n",
       "      <th>author</th>\n",
       "      <th>gutenberg.author.id</th>\n",
       "      <th>gutenberg.bookshelf</th>\n",
       "      <th>flesch.value</th>\n",
       "      <th>flesch.grade</th>\n",
       "      <th>level</th>\n",
       "      <th>average.goodreads.rating</th>\n",
       "    </tr>\n",
       "  </thead>\n",
       "  <tbody>\n",
       "    <tr>\n",
       "      <th>469</th>\n",
       "      <td>15</td>\n",
       "      <td>Moby Dick</td>\n",
       "      <td>Melville, Herman</td>\n",
       "      <td>9</td>\n",
       "      <td>Best Books Ever Listings/Adventure</td>\n",
       "      <td>26.599868</td>\n",
       "      <td>&gt;= 16 (college graduate)</td>\n",
       "      <td>C2</td>\n",
       "      <td>3.47</td>\n",
       "    </tr>\n",
       "    <tr>\n",
       "      <th>471</th>\n",
       "      <td>16833</td>\n",
       "      <td>Auguste Comte and Positivism</td>\n",
       "      <td>Mill, John Stuart</td>\n",
       "      <td>1705</td>\n",
       "      <td>Philosophy</td>\n",
       "      <td>43.411004</td>\n",
       "      <td>&gt;= 13 (college)</td>\n",
       "      <td>C2</td>\n",
       "      <td>3.65</td>\n",
       "    </tr>\n",
       "    <tr>\n",
       "      <th>476</th>\n",
       "      <td>18188</td>\n",
       "      <td>Homer and Classical Philology</td>\n",
       "      <td>Nietzsche, Friedrich Wilhelm</td>\n",
       "      <td>779</td>\n",
       "      <td>Philosophy</td>\n",
       "      <td>44.382562</td>\n",
       "      <td>&gt;= 13 (college)</td>\n",
       "      <td>C2</td>\n",
       "      <td>3.84</td>\n",
       "    </tr>\n",
       "    <tr>\n",
       "      <th>468</th>\n",
       "      <td>2009</td>\n",
       "      <td>The Origin of Species by Means of Natural Sele...</td>\n",
       "      <td>Darwin, Charles</td>\n",
       "      <td>485</td>\n",
       "      <td>Harvard Classics/Biology</td>\n",
       "      <td>46.535282</td>\n",
       "      <td>&gt;= 13 (college)</td>\n",
       "      <td>C2</td>\n",
       "      <td>3.97</td>\n",
       "    </tr>\n",
       "    <tr>\n",
       "      <th>470</th>\n",
       "      <td>35421</td>\n",
       "      <td>A System of Logic: Ratiocinative and Inductive...</td>\n",
       "      <td>Mill, John Stuart</td>\n",
       "      <td>1705</td>\n",
       "      <td>Philosophy</td>\n",
       "      <td>47.673194</td>\n",
       "      <td>&gt;= 13 (college)</td>\n",
       "      <td>C2</td>\n",
       "      <td>2.82</td>\n",
       "    </tr>\n",
       "  </tbody>\n",
       "</table>\n",
       "</div>"
      ],
      "text/plain": [
       "    gutenberg.id                                              title  \\\n",
       "469           15                                          Moby Dick   \n",
       "471        16833                       Auguste Comte and Positivism   \n",
       "476        18188                      Homer and Classical Philology   \n",
       "468         2009  The Origin of Species by Means of Natural Sele...   \n",
       "470        35421  A System of Logic: Ratiocinative and Inductive...   \n",
       "\n",
       "                           author gutenberg.author.id  \\\n",
       "469              Melville, Herman                   9   \n",
       "471             Mill, John Stuart                1705   \n",
       "476  Nietzsche, Friedrich Wilhelm                 779   \n",
       "468               Darwin, Charles                 485   \n",
       "470             Mill, John Stuart                1705   \n",
       "\n",
       "                    gutenberg.bookshelf  flesch.value  \\\n",
       "469  Best Books Ever Listings/Adventure     26.599868   \n",
       "471                          Philosophy     43.411004   \n",
       "476                          Philosophy     44.382562   \n",
       "468            Harvard Classics/Biology     46.535282   \n",
       "470                          Philosophy     47.673194   \n",
       "\n",
       "                 flesch.grade level  average.goodreads.rating  \n",
       "469  >= 16 (college graduate)    C2                      3.47  \n",
       "471           >= 13 (college)    C2                      3.65  \n",
       "476           >= 13 (college)    C2                      3.84  \n",
       "468           >= 13 (college)    C2                      3.97  \n",
       "470           >= 13 (college)    C2                      2.82  "
      ]
     },
     "execution_count": 111,
     "metadata": {},
     "output_type": "execute_result"
    }
   ],
   "source": [
    "res_df.head()"
   ]
  },
  {
   "cell_type": "code",
   "execution_count": 112,
   "metadata": {},
   "outputs": [
    {
     "data": {
      "text/plain": [
       "flesch.value  average.goodreads.rating\n",
       "(26.0, 27.0]  (3.0, 3.5]                  1\n",
       "(43.0, 44.0]  (3.5, 4.0]                  1\n",
       "(44.0, 45.0]  (3.5, 4.0]                  1\n",
       "(46.0, 47.0]  (3.5, 4.0]                  1\n",
       "(47.0, 48.0]  (2.5, 3.0]                  1\n",
       "dtype: int64"
      ]
     },
     "execution_count": 112,
     "metadata": {},
     "output_type": "execute_result"
    }
   ],
   "source": [
    "cuts_flesch_2 = pd.cut(res_df['flesch.value'], bins_flesch)\n",
    "cuts_rating_2 = pd.cut(res_df['average.goodreads.rating'], bins_rating)\n",
    "groups = res_df.groupby(by=[cuts_flesch_2, cuts_rating_2])\n",
    "groups.size().head()"
   ]
  },
  {
   "cell_type": "markdown",
   "metadata": {},
   "source": [
    "Now there should be just 1 book per bucket. The final result is 142 books (`res_df.shape[0]`). Plugging this into the existing app gives us the following result:"
   ]
  },
  {
   "cell_type": "markdown",
   "metadata": {},
   "source": [
    "![alt text](images/plot_after.png \"Books on this level plot -- after removing some items\")"
   ]
  },
  {
   "cell_type": "markdown",
   "metadata": {},
   "source": [
    "### Calculating readability"
   ]
  },
  {
   "cell_type": "markdown",
   "metadata": {},
   "source": [
    "Another thing I wanted to touch upon is the readability score calculation -- which is pretty hard. To calculate the Flesch-Kincaid readability score you need to correctly parse the text into sentences, words and syllables. The raw implementation of the formula would be as follows:"
   ]
  },
  {
   "cell_type": "code",
   "execution_count": 3,
   "metadata": {},
   "outputs": [],
   "source": [
    "def calculate_flesch_score(no_of_sentences, no_of_words, no_of_syllables):\n",
    "    return 206.835 - 1.015 * (no_of_words / no_of_sentences) - 84.6 * (no_of_syllables / no_of_words)"
   ]
  },
  {
   "cell_type": "markdown",
   "metadata": {},
   "source": [
    "Even leaving aside the issue of what is a word vs what is a sentence (take the [Inuit languages](https://en.wikipedia.org/wiki/Inuit_languages#Morphology_and_syntax) with their extreme agglutination), determining the syllable count of a text is not that easy. You can use [CMUDict](http://www.speech.cs.cmu.edu/cgi-bin/cmudict), which is conveniently available via the nltk package, but there are a lot of words missing from there. Then there's [Pyphen](https://pyphen.org/) but it's pretty error-prone. I also came across the [Readability package](https://pypi.org/project/readability/) which also has its specific requirements pertaining to the pre-processing of the text."
   ]
  },
  {
   "cell_type": "markdown",
   "metadata": {},
   "source": [
    "Let's see how all these perform on the benchmark of \"Heart of Darkness\", one of the rare cases of the books I hate so much, any time I see a copy of it somewhere I want to throw it out of the closest window:"
   ]
  },
  {
   "cell_type": "code",
   "execution_count": 75,
   "metadata": {},
   "outputs": [],
   "source": [
    "import nltk\n",
    "from nltk import word_tokenize, sent_tokenize\n",
    "from nltk.corpus import cmudict\n",
    "import readability\n",
    "import pyphen\n",
    "import re"
   ]
  },
  {
   "cell_type": "code",
   "execution_count": 179,
   "metadata": {},
   "outputs": [],
   "source": [
    "f = open('heart_of_darkness.txt')\n",
    "raw = f.read()"
   ]
  },
  {
   "cell_type": "code",
   "execution_count": 180,
   "metadata": {},
   "outputs": [
    {
     "data": {
      "text/plain": [
       "646"
      ]
     },
     "execution_count": 180,
     "metadata": {},
     "output_type": "execute_result"
    }
   ],
   "source": [
    "raw.find('The Nellie')"
   ]
  },
  {
   "cell_type": "code",
   "execution_count": 181,
   "metadata": {},
   "outputs": [
    {
     "data": {
      "text/plain": [
       "211098"
      ]
     },
     "execution_count": 181,
     "metadata": {},
     "output_type": "execute_result"
    }
   ],
   "source": [
    "raw.find('End of the Project Gutenberg EBook of Heart of Darkness, by Joseph Conrad')"
   ]
  },
  {
   "cell_type": "code",
   "execution_count": 182,
   "metadata": {},
   "outputs": [],
   "source": [
    "raw = raw[646:211098]"
   ]
  },
  {
   "cell_type": "code",
   "execution_count": 183,
   "metadata": {},
   "outputs": [],
   "source": [
    "lower_parsed = re.sub('[^0-9a-zA-Z]+', ' ', raw).lower()"
   ]
  },
  {
   "cell_type": "code",
   "execution_count": 184,
   "metadata": {},
   "outputs": [],
   "source": [
    "words = word_tokenize(lower_parsed)"
   ]
  },
  {
   "cell_type": "code",
   "execution_count": 71,
   "metadata": {},
   "outputs": [
    {
     "data": {
      "text/plain": [
       "39064"
      ]
     },
     "execution_count": 71,
     "metadata": {},
     "output_type": "execute_result"
    }
   ],
   "source": [
    "len(words)"
   ]
  },
  {
   "cell_type": "code",
   "execution_count": 89,
   "metadata": {},
   "outputs": [],
   "source": [
    "unique_words = set(words)"
   ]
  },
  {
   "cell_type": "code",
   "execution_count": 85,
   "metadata": {},
   "outputs": [
    {
     "data": {
      "text/plain": [
       "5727"
      ]
     },
     "execution_count": 85,
     "metadata": {},
     "output_type": "execute_result"
    }
   ],
   "source": [
    "len(unique_words)"
   ]
  },
  {
   "cell_type": "code",
   "execution_count": 64,
   "metadata": {},
   "outputs": [],
   "source": [
    "sentences = sent_tokenize(raw)"
   ]
  },
  {
   "cell_type": "code",
   "execution_count": 67,
   "metadata": {},
   "outputs": [
    {
     "data": {
      "text/plain": [
       "2417"
      ]
     },
     "execution_count": 67,
     "metadata": {},
     "output_type": "execute_result"
    }
   ],
   "source": [
    "len(sentences)"
   ]
  },
  {
   "cell_type": "markdown",
   "metadata": {},
   "source": [
    "This gives me 39064 words (5727 of them unique) and 2417 sentences. Let's see how many of these words can be found in the CMUdict:"
   ]
  },
  {
   "cell_type": "code",
   "execution_count": 76,
   "metadata": {},
   "outputs": [],
   "source": [
    "cmudict = cmudict.dict()"
   ]
  },
  {
   "cell_type": "code",
   "execution_count": 90,
   "metadata": {},
   "outputs": [],
   "source": [
    "no_dict = []\n",
    "for word in unique_words:\n",
    "    if word not in cmudict.keys():\n",
    "        no_dict.append(word)"
   ]
  },
  {
   "cell_type": "code",
   "execution_count": 91,
   "metadata": {},
   "outputs": [
    {
     "data": {
      "text/plain": [
       "359"
      ]
     },
     "execution_count": 91,
     "metadata": {},
     "output_type": "execute_result"
    }
   ],
   "source": [
    "len(no_dict)"
   ]
  },
  {
   "cell_type": "markdown",
   "metadata": {},
   "source": [
    "This means that 359 unique words are not accounted for in the CMUdict. Let's see how often they appear in the whole book:"
   ]
  },
  {
   "cell_type": "code",
   "execution_count": 96,
   "metadata": {},
   "outputs": [
    {
     "name": "stdout",
     "output_type": "stream",
     "text": [
      "507\n"
     ]
    }
   ],
   "source": [
    "c = 0\n",
    "for unique_word in no_dict:\n",
    "    for word in words:\n",
    "        if unique_word == word:\n",
    "            c += 1\n",
    "print(c)"
   ]
  },
  {
   "cell_type": "markdown",
   "metadata": {},
   "source": [
    "That's a total of 507 words out of 39064, or ~1.3% of all the words in the book. Since this is a quick and dirty solution let's say I can live with this fact, and move on. The plan is as follows:\n",
    "1. create a lookup dictionary based off the stress patterns in the CMUdict,\n",
    "2. calculate the number of syllables in the whole book based off the lookup dictionary.\n",
    "\n",
    "The join-fu and error handling is due to the CMUdict sometimes having two different pronunciation of the same word (obviously, but not useful to me at that moment)."
   ]
  },
  {
   "cell_type": "code",
   "execution_count": 202,
   "metadata": {},
   "outputs": [],
   "source": [
    "lookup_dict = {}\n",
    "reg = re.compile(r'[^\\d]+')\n",
    "\n",
    "for word in unique_words:\n",
    "    if word not in cmudict.keys():\n",
    "        lookup_dict[word] = 1\n",
    "    else:\n",
    "        try:\n",
    "            lookup_dict[word] = len(reg.sub('', ''.join(cmudict[word][0])))\n",
    "        except TypeError:\n",
    "            lookup_dict[word] = len(reg.sub('', ''.join(cmudict[word][0][0])))"
   ]
  },
  {
   "cell_type": "code",
   "execution_count": 203,
   "metadata": {},
   "outputs": [
    {
     "name": "stdout",
     "output_type": "stream",
     "text": [
      "52487\n"
     ]
    }
   ],
   "source": [
    "n_syl = 0\n",
    "for word in words:\n",
    "    n_syl += lookup_dict[word]\n",
    "print(n_syl)"
   ]
  },
  {
   "cell_type": "markdown",
   "metadata": {},
   "source": [
    "52487 sounds a bit low, but let's see how this translates into the score:"
   ]
  },
  {
   "cell_type": "code",
   "execution_count": 204,
   "metadata": {},
   "outputs": [
    {
     "name": "stdout",
     "output_type": "stream",
     "text": [
      "76.76050250923326\n"
     ]
    }
   ],
   "source": [
    "print(calculate_flesch_score(len(sentences), len(words), n_syl))"
   ]
  },
  {
   "cell_type": "markdown",
   "metadata": {},
   "source": [
    "Another implementation, now fetching the syllable count with Pyphen:"
   ]
  },
  {
   "cell_type": "code",
   "execution_count": 170,
   "metadata": {},
   "outputs": [],
   "source": [
    "import pyphen\n",
    "dic = pyphen.Pyphen(lang='en_UK') # In reality, Conrad was a Pole."
   ]
  },
  {
   "cell_type": "markdown",
   "metadata": {},
   "source": [
    "Pyphen returns a hyphenated string; I'm going to count these hyphens and add 1 to get the predicted number of syllables."
   ]
  },
  {
   "cell_type": "code",
   "execution_count": 174,
   "metadata": {},
   "outputs": [],
   "source": [
    "lookup_dict = {}\n",
    "reg = re.compile(r'[^-]+')\n",
    "\n",
    "for word in unique_words:\n",
    "    lookup_dict[word] = len(reg.sub('', word))+1"
   ]
  },
  {
   "cell_type": "code",
   "execution_count": 176,
   "metadata": {},
   "outputs": [
    {
     "name": "stdout",
     "output_type": "stream",
     "text": [
      "39064\n"
     ]
    }
   ],
   "source": [
    "n_syl = 0\n",
    "for word in words:\n",
    "    n_syl += lookup_dict[word]\n",
    "print(n_syl)"
   ]
  },
  {
   "cell_type": "markdown",
   "metadata": {},
   "source": [
    "This gives me 39064 syllables, which is even more dubious."
   ]
  },
  {
   "cell_type": "code",
   "execution_count": 177,
   "metadata": {},
   "outputs": [
    {
     "name": "stdout",
     "output_type": "stream",
     "text": [
      "105.8303827058337\n"
     ]
    }
   ],
   "source": [
    "print(calculate_flesch_score(len(sentences), len(words), n_syl))"
   ]
  },
  {
   "cell_type": "markdown",
   "metadata": {},
   "source": [
    "This makes no sense whatsover. A score of 105 would be for sentences in the style of \"I see you.\" (essentially, a lot of single-syllable words in really short sentences), and this book is far from that. Let's see the final implementation via the Readability package:"
   ]
  },
  {
   "cell_type": "code",
   "execution_count": 196,
   "metadata": {},
   "outputs": [],
   "source": [
    "import readability"
   ]
  },
  {
   "cell_type": "code",
   "execution_count": 194,
   "metadata": {},
   "outputs": [],
   "source": [
    "sentences = [s.replace('\\n', ' ') for s in sentences]\n",
    "text = '\\n'.join(sentences)"
   ]
  },
  {
   "cell_type": "code",
   "execution_count": 197,
   "metadata": {},
   "outputs": [],
   "source": [
    "results = readability.getmeasures(text, lang='en')"
   ]
  },
  {
   "cell_type": "code",
   "execution_count": 198,
   "metadata": {},
   "outputs": [
    {
     "name": "stdout",
     "output_type": "stream",
     "text": [
      "82.8232249133162\n"
     ]
    }
   ],
   "source": [
    "print(results['readability grades']['FleschReadingEase'])"
   ]
  },
  {
   "cell_type": "markdown",
   "metadata": {},
   "source": [
    "The score of almost 83 again seems a bit too high but it's at least close to the one calculated with the CMU dictionary. Finally, let's see how the treetagger-based implementation performed last year:"
   ]
  },
  {
   "cell_type": "code",
   "execution_count": 201,
   "metadata": {},
   "outputs": [
    {
     "data": {
      "text/html": [
       "<div>\n",
       "<style scoped>\n",
       "    .dataframe tbody tr th:only-of-type {\n",
       "        vertical-align: middle;\n",
       "    }\n",
       "\n",
       "    .dataframe tbody tr th {\n",
       "        vertical-align: top;\n",
       "    }\n",
       "\n",
       "    .dataframe thead th {\n",
       "        text-align: right;\n",
       "    }\n",
       "</style>\n",
       "<table border=\"1\" class=\"dataframe\">\n",
       "  <thead>\n",
       "    <tr style=\"text-align: right;\">\n",
       "      <th></th>\n",
       "      <th>gutenberg.id</th>\n",
       "      <th>title</th>\n",
       "      <th>author</th>\n",
       "      <th>gutenberg.author.id</th>\n",
       "      <th>gutenberg.bookshelf</th>\n",
       "      <th>flesch.value</th>\n",
       "      <th>flesch.grade</th>\n",
       "      <th>level</th>\n",
       "      <th>average.goodreads.rating</th>\n",
       "    </tr>\n",
       "  </thead>\n",
       "  <tbody>\n",
       "    <tr>\n",
       "      <th>219</th>\n",
       "      <td>219</td>\n",
       "      <td>Heart of Darkness</td>\n",
       "      <td>Conrad, Joseph</td>\n",
       "      <td>125</td>\n",
       "      <td>Best Books Ever Listings/Movie Books</td>\n",
       "      <td>77.935178</td>\n",
       "      <td>7</td>\n",
       "      <td>B1</td>\n",
       "      <td>3.42</td>\n",
       "    </tr>\n",
       "  </tbody>\n",
       "</table>\n",
       "</div>"
      ],
      "text/plain": [
       "     gutenberg.id              title          author  gutenberg.author.id  \\\n",
       "219           219  Heart of Darkness  Conrad, Joseph                  125   \n",
       "\n",
       "                      gutenberg.bookshelf  flesch.value flesch.grade level  \\\n",
       "219  Best Books Ever Listings/Movie Books     77.935178            7    B1   \n",
       "\n",
       "     average.goodreads.rating  \n",
       "219                      3.42  "
      ]
     },
     "execution_count": 201,
     "metadata": {},
     "output_type": "execute_result"
    }
   ],
   "source": [
    "book_list[book_list['title']=='Heart of Darkness']"
   ]
  },
  {
   "cell_type": "markdown",
   "metadata": {},
   "source": [
    "The treetagger version has a similar score of ~78. Maybe I just really hate this book..."
   ]
  }
 ],
 "metadata": {
  "kernelspec": {
   "display_name": "somebody-once-told-me",
   "language": "python",
   "name": "somebody-once-told-me"
  },
  "language_info": {
   "codemirror_mode": {
    "name": "ipython",
    "version": 3
   },
   "file_extension": ".py",
   "mimetype": "text/x-python",
   "name": "python",
   "nbconvert_exporter": "python",
   "pygments_lexer": "ipython3",
   "version": "3.7.3"
  }
 },
 "nbformat": 4,
 "nbformat_minor": 2
}
